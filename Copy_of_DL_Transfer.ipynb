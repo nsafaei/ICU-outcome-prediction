{
  "nbformat": 4,
  "nbformat_minor": 0,
  "metadata": {
    "colab": {
      "name": "Copy of DL-Transfer.ipynb",
      "provenance": [],
      "authorship_tag": "ABX9TyPRraMk4HqHKB116flU0nnE",
      "include_colab_link": true
    },
    "kernelspec": {
      "name": "python3",
      "display_name": "Python 3"
    }
  },
  "cells": [
    {
      "cell_type": "markdown",
      "metadata": {
        "id": "view-in-github",
        "colab_type": "text"
      },
      "source": [
        "<a href=\"https://colab.research.google.com/github/nsafaei/ICU-outcome-prediction/blob/master/Copy_of_DL_Transfer.ipynb\" target=\"_parent\"><img src=\"https://colab.research.google.com/assets/colab-badge.svg\" alt=\"Open In Colab\"/></a>"
      ]
    },
    {
      "cell_type": "code",
      "metadata": {
        "id": "sVu7CW6Ns8fv",
        "colab_type": "code",
        "outputId": "f103fd53-d120-4cb7-b12e-9e8c9ac3c527",
        "colab": {
          "base_uri": "https://localhost:8080/",
          "height": 84
        }
      },
      "source": [
        "# 1. Download the dataset\n",
        "#!wget https://user.engineering.uiowa.edu/~sbaek/files/cats_and_dogs.zip\n",
        "!unzip -q cats_and_dogs.zip\n",
        "\n",
        "\n",
        "# 2. Read the dataset\n",
        "import os\n",
        "import cv2\n",
        "import numpy as np\n",
        "\n",
        "from tqdm import tqdm\n",
        "\n",
        "cat_list = ['PetImages/Cat/' + file for file in os.listdir('PetImages/Cat') if file.endswith('.jpg')]   # file paths for cat images\n",
        "dog_list = ['PetImages/Dog/' + file for file in os.listdir('PetImages/Dog') if file.endswith('.jpg')]   # file paths for dog images\n",
        "\n",
        "x = [] # empty list for storing images\n",
        "y = [] # empty list for storing image labels. we will use one-hot encoding [1, 0] = cat, [0, 1] = dog\n",
        "\n",
        "for f in tqdm(cat_list[0:100]): # this is how you use tqdm\n",
        "# for f in cat_list: # this is without-tqdm version\n",
        "  img = cv2.imread(f)  # read an image from the file list\n",
        "  if img is not None:  # if image reading successful\n",
        "    x.append(cv2.resize(img, (224,224)))  # append new image to the image list. resize and normalize before to append.\n",
        "    y.append([1, 0])  # append new label to the label list\n",
        "  \n",
        "for f in tqdm(dog_list[0:100]):\n",
        "  img = cv2.imread(f)\n",
        "  if img is not None:\n",
        "    x.append(cv2.resize(img, (224,224)))\n",
        "    y.append([0,1])\n",
        "x = np.array(x)\n",
        "y = np.array(y)\n",
        "#Ghanoon VGG\n",
        "x = x - np.array([123.68, 116.779, 103.939], dtype=np.float32).reshape((1,1,3))\n",
        "\n",
        "\n",
        "\n",
        "# 3. Train-test split\n",
        "from sklearn.model_selection import train_test_split\n",
        "import time # this is for generating random seed\n",
        "\n",
        "train_x, test_x, train_y, test_y = train_test_split(x, y, test_size=0.3, random_state=int(time.time()))\n",
        "\n",
        "print(len(x), len(train_x), len(test_x))"
      ],
      "execution_count": 0,
      "outputs": [
        {
          "output_type": "stream",
          "text": [
            "replace PetImages/Cat/0.jpg? [y]es, [n]o, [A]ll, [N]one, [r]ename: N\n"
          ],
          "name": "stdout"
        },
        {
          "output_type": "stream",
          "text": [
            "100%|██████████| 100/100 [00:00<00:00, 314.17it/s]\n",
            "100%|██████████| 100/100 [00:00<00:00, 323.04it/s]\n"
          ],
          "name": "stderr"
        },
        {
          "output_type": "stream",
          "text": [
            "200 140 60\n"
          ],
          "name": "stdout"
        }
      ]
    },
    {
      "cell_type": "code",
      "metadata": {
        "id": "bHMhnbj3tS0A",
        "colab_type": "code",
        "colab": {}
      },
      "source": [
        "%tensorflow_version 1.x\n",
        "import tensorflow as tf\n",
        "model = tf.keras.applications.VGG16(weights=\"imagenet\", include_top=True,\n",
        "                                    input_shape=(224,224,3)) # top means final decision layer\n",
        "              "
      ],
      "execution_count": 0,
      "outputs": []
    },
    {
      "cell_type": "code",
      "metadata": {
        "id": "yN3Os_n3vb_j",
        "colab_type": "code",
        "outputId": "4b805cea-6207-47e1-91af-d3cc6edd6a0e",
        "colab": {
          "base_uri": "https://localhost:8080/",
          "height": 924
        }
      },
      "source": [
        "model.summary()"
      ],
      "execution_count": 0,
      "outputs": [
        {
          "output_type": "stream",
          "text": [
            "Model: \"vgg16\"\n",
            "_________________________________________________________________\n",
            "Layer (type)                 Output Shape              Param #   \n",
            "=================================================================\n",
            "input_2 (InputLayer)         [(None, 224, 224, 3)]     0         \n",
            "_________________________________________________________________\n",
            "block1_conv1 (Conv2D)        (None, 224, 224, 64)      1792      \n",
            "_________________________________________________________________\n",
            "block1_conv2 (Conv2D)        (None, 224, 224, 64)      36928     \n",
            "_________________________________________________________________\n",
            "block1_pool (MaxPooling2D)   (None, 112, 112, 64)      0         \n",
            "_________________________________________________________________\n",
            "block2_conv1 (Conv2D)        (None, 112, 112, 128)     73856     \n",
            "_________________________________________________________________\n",
            "block2_conv2 (Conv2D)        (None, 112, 112, 128)     147584    \n",
            "_________________________________________________________________\n",
            "block2_pool (MaxPooling2D)   (None, 56, 56, 128)       0         \n",
            "_________________________________________________________________\n",
            "block3_conv1 (Conv2D)        (None, 56, 56, 256)       295168    \n",
            "_________________________________________________________________\n",
            "block3_conv2 (Conv2D)        (None, 56, 56, 256)       590080    \n",
            "_________________________________________________________________\n",
            "block3_conv3 (Conv2D)        (None, 56, 56, 256)       590080    \n",
            "_________________________________________________________________\n",
            "block3_pool (MaxPooling2D)   (None, 28, 28, 256)       0         \n",
            "_________________________________________________________________\n",
            "block4_conv1 (Conv2D)        (None, 28, 28, 512)       1180160   \n",
            "_________________________________________________________________\n",
            "block4_conv2 (Conv2D)        (None, 28, 28, 512)       2359808   \n",
            "_________________________________________________________________\n",
            "block4_conv3 (Conv2D)        (None, 28, 28, 512)       2359808   \n",
            "_________________________________________________________________\n",
            "block4_pool (MaxPooling2D)   (None, 14, 14, 512)       0         \n",
            "_________________________________________________________________\n",
            "block5_conv1 (Conv2D)        (None, 14, 14, 512)       2359808   \n",
            "_________________________________________________________________\n",
            "block5_conv2 (Conv2D)        (None, 14, 14, 512)       2359808   \n",
            "_________________________________________________________________\n",
            "block5_conv3 (Conv2D)        (None, 14, 14, 512)       2359808   \n",
            "_________________________________________________________________\n",
            "block5_pool (MaxPooling2D)   (None, 7, 7, 512)         0         \n",
            "_________________________________________________________________\n",
            "flatten (Flatten)            (None, 25088)             0         \n",
            "_________________________________________________________________\n",
            "fc1 (Dense)                  (None, 4096)              102764544 \n",
            "_________________________________________________________________\n",
            "fc2 (Dense)                  (None, 4096)              16781312  \n",
            "_________________________________________________________________\n",
            "predictions (Dense)          (None, 1000)              4097000   \n",
            "=================================================================\n",
            "Total params: 138,357,544\n",
            "Trainable params: 138,357,544\n",
            "Non-trainable params: 0\n",
            "_________________________________________________________________\n"
          ],
          "name": "stdout"
        }
      ]
    },
    {
      "cell_type": "code",
      "metadata": {
        "id": "f4sk8nZjvwOu",
        "colab_type": "code",
        "colab": {}
      },
      "source": [
        "predicted_y = model.predict(test_x)"
      ],
      "execution_count": 0,
      "outputs": []
    },
    {
      "cell_type": "code",
      "metadata": {
        "id": "W-rcug8dwHnD",
        "colab_type": "code",
        "outputId": "dcb095b0-3f86-4b0f-ac64-0e214a169727",
        "colab": {
          "base_uri": "https://localhost:8080/",
          "height": 235
        }
      },
      "source": [
        "print(predicted_y) # this shows the probability distribution"
      ],
      "execution_count": 0,
      "outputs": [
        {
          "output_type": "stream",
          "text": [
            "[[2.2308324e-05 1.0397134e-05 4.8509678e-06 ... 7.1634154e-06\n",
            "  8.3307586e-06 1.1711812e-04]\n",
            " [6.8217366e-07 1.5824247e-05 2.8228271e-06 ... 9.5753217e-07\n",
            "  2.5745176e-04 1.8693842e-03]\n",
            " [6.3826229e-07 1.2648385e-06 4.4782223e-07 ... 7.6073678e-07\n",
            "  1.7622703e-04 1.6836576e-04]\n",
            " ...\n",
            " [1.5858091e-06 1.5309297e-05 2.0700296e-04 ... 5.8953651e-07\n",
            "  1.9244131e-04 2.0713102e-02]\n",
            " [3.3398041e-07 2.3531816e-06 3.2589240e-05 ... 7.5512196e-07\n",
            "  1.1649994e-04 1.3256601e-02]\n",
            " [1.3431803e-05 7.5793350e-06 3.3229261e-07 ... 1.0418913e-05\n",
            "  2.9360177e-04 2.2420259e-03]]\n"
          ],
          "name": "stdout"
        }
      ]
    },
    {
      "cell_type": "code",
      "metadata": {
        "id": "6-pjye5VwTEu",
        "colab_type": "code",
        "outputId": "04963f86-31bf-4529-9979-0e282ae1d38a",
        "colab": {
          "base_uri": "https://localhost:8080/",
          "height": 84
        }
      },
      "source": [
        "# number of images * 1000 classes\n",
        "print(predicted_y.argmax(axis=-1)) #maximum axis along the last axis"
      ],
      "execution_count": 0,
      "outputs": [
        {
          "output_type": "stream",
          "text": [
            "[286 281 232 165 227 191 892 182 281 285 284 281 285 243 219 253 285 285\n",
            " 285 247 283 285 285 222 282 151 162 235 282 171 250 700 185 283 248 282\n",
            " 285 235 227 285 173 260 180 174 205 262 209 208 265 164 211 273 283 285\n",
            " 794 285 281 285 285 208]\n"
          ],
          "name": "stdout"
        }
      ]
    },
    {
      "cell_type": "code",
      "metadata": {
        "id": "NLGfnVjswffL",
        "colab_type": "code",
        "outputId": "57eac152-2f8f-4fcf-abfa-cb93522f5576",
        "colab": {
          "base_uri": "https://localhost:8080/",
          "height": 823
        }
      },
      "source": [
        "model1 = tf.keras.applications.VGG16(weights=\"imagenet\", include_top=False,\n",
        "                                    input_shape=(224,224,3))\n",
        "X = model.get_layer('block5_pool').output\n",
        "\n",
        "X = tf.keras.layer.Flatten()(X)\n",
        "X = tf.keras.layers.Dense(512, activation = \"relu\")(X)\n",
        "X = tf.keras,layers.Dense(2, activation=\"softmax\")(X)\n",
        "\n",
        "myModel = tf.keras.Model(model1.input, X)\n",
        "\n",
        "myModel.summary()"
      ],
      "execution_count": 0,
      "outputs": [
        {
          "output_type": "stream",
          "text": [
            "Downloading data from https://github.com/fchollet/deep-learning-models/releases/download/v0.1/vgg16_weights_tf_dim_ordering_tf_kernels_notop.h5\n",
            "58892288/58889256 [==============================] - 5s 0us/step\n",
            "Model: \"vgg16\"\n",
            "_________________________________________________________________\n",
            "Layer (type)                 Output Shape              Param #   \n",
            "=================================================================\n",
            "input_3 (InputLayer)         [(None, 224, 224, 3)]     0         \n",
            "_________________________________________________________________\n",
            "block1_conv1 (Conv2D)        (None, 224, 224, 64)      1792      \n",
            "_________________________________________________________________\n",
            "block1_conv2 (Conv2D)        (None, 224, 224, 64)      36928     \n",
            "_________________________________________________________________\n",
            "block1_pool (MaxPooling2D)   (None, 112, 112, 64)      0         \n",
            "_________________________________________________________________\n",
            "block2_conv1 (Conv2D)        (None, 112, 112, 128)     73856     \n",
            "_________________________________________________________________\n",
            "block2_conv2 (Conv2D)        (None, 112, 112, 128)     147584    \n",
            "_________________________________________________________________\n",
            "block2_pool (MaxPooling2D)   (None, 56, 56, 128)       0         \n",
            "_________________________________________________________________\n",
            "block3_conv1 (Conv2D)        (None, 56, 56, 256)       295168    \n",
            "_________________________________________________________________\n",
            "block3_conv2 (Conv2D)        (None, 56, 56, 256)       590080    \n",
            "_________________________________________________________________\n",
            "block3_conv3 (Conv2D)        (None, 56, 56, 256)       590080    \n",
            "_________________________________________________________________\n",
            "block3_pool (MaxPooling2D)   (None, 28, 28, 256)       0         \n",
            "_________________________________________________________________\n",
            "block4_conv1 (Conv2D)        (None, 28, 28, 512)       1180160   \n",
            "_________________________________________________________________\n",
            "block4_conv2 (Conv2D)        (None, 28, 28, 512)       2359808   \n",
            "_________________________________________________________________\n",
            "block4_conv3 (Conv2D)        (None, 28, 28, 512)       2359808   \n",
            "_________________________________________________________________\n",
            "block4_pool (MaxPooling2D)   (None, 14, 14, 512)       0         \n",
            "_________________________________________________________________\n",
            "block5_conv1 (Conv2D)        (None, 14, 14, 512)       2359808   \n",
            "_________________________________________________________________\n",
            "block5_conv2 (Conv2D)        (None, 14, 14, 512)       2359808   \n",
            "_________________________________________________________________\n",
            "block5_conv3 (Conv2D)        (None, 14, 14, 512)       2359808   \n",
            "_________________________________________________________________\n",
            "block5_pool (MaxPooling2D)   (None, 7, 7, 512)         0         \n",
            "=================================================================\n",
            "Total params: 14,714,688\n",
            "Trainable params: 14,714,688\n",
            "Non-trainable params: 0\n",
            "_________________________________________________________________\n"
          ],
          "name": "stdout"
        }
      ]
    },
    {
      "cell_type": "code",
      "metadata": {
        "id": "Ypfd3tzTypAt",
        "colab_type": "code",
        "outputId": "13cbcbab-4ca8-4304-8bbb-03e1e30775b0",
        "colab": {
          "base_uri": "https://localhost:8080/",
          "height": 890
        }
      },
      "source": [
        "%tensorflow_version 1.x\n",
        "import tensorflow as tf\n",
        "model1 = tf.keras.applications.VGG16(weights=\"imagenet\", include_top=False,\n",
        "                                    input_shape=(224,224,3))\n",
        "#fune tuning the last two layers for our new data set\n",
        "for layer in model1.layers:\n",
        "  #visit all layers in model.layers (VGG16 network)\n",
        "  layer.trainable = False # freeze the ability to train the layers\n",
        "\n",
        "\n",
        "X = model1.get_layer('block5_pool').output\n",
        "\n",
        "X = tf.keras.layers.Flatten()(X)\n",
        "X = tf.keras.layers.Dense(512, activation = \"relu\")(X)\n",
        "X = tf.keras.layers.Dense(2, activation=\"softmax\")(X)\n",
        "\n",
        "myModel = tf.keras.Model(model1.input, X)\n",
        "\n",
        "myModel.summary()"
      ],
      "execution_count": 0,
      "outputs": [
        {
          "output_type": "stream",
          "text": [
            "Model: \"model\"\n",
            "_________________________________________________________________\n",
            "Layer (type)                 Output Shape              Param #   \n",
            "=================================================================\n",
            "input_10 (InputLayer)        [(None, 224, 224, 3)]     0         \n",
            "_________________________________________________________________\n",
            "block1_conv1 (Conv2D)        (None, 224, 224, 64)      1792      \n",
            "_________________________________________________________________\n",
            "block1_conv2 (Conv2D)        (None, 224, 224, 64)      36928     \n",
            "_________________________________________________________________\n",
            "block1_pool (MaxPooling2D)   (None, 112, 112, 64)      0         \n",
            "_________________________________________________________________\n",
            "block2_conv1 (Conv2D)        (None, 112, 112, 128)     73856     \n",
            "_________________________________________________________________\n",
            "block2_conv2 (Conv2D)        (None, 112, 112, 128)     147584    \n",
            "_________________________________________________________________\n",
            "block2_pool (MaxPooling2D)   (None, 56, 56, 128)       0         \n",
            "_________________________________________________________________\n",
            "block3_conv1 (Conv2D)        (None, 56, 56, 256)       295168    \n",
            "_________________________________________________________________\n",
            "block3_conv2 (Conv2D)        (None, 56, 56, 256)       590080    \n",
            "_________________________________________________________________\n",
            "block3_conv3 (Conv2D)        (None, 56, 56, 256)       590080    \n",
            "_________________________________________________________________\n",
            "block3_pool (MaxPooling2D)   (None, 28, 28, 256)       0         \n",
            "_________________________________________________________________\n",
            "block4_conv1 (Conv2D)        (None, 28, 28, 512)       1180160   \n",
            "_________________________________________________________________\n",
            "block4_conv2 (Conv2D)        (None, 28, 28, 512)       2359808   \n",
            "_________________________________________________________________\n",
            "block4_conv3 (Conv2D)        (None, 28, 28, 512)       2359808   \n",
            "_________________________________________________________________\n",
            "block4_pool (MaxPooling2D)   (None, 14, 14, 512)       0         \n",
            "_________________________________________________________________\n",
            "block5_conv1 (Conv2D)        (None, 14, 14, 512)       2359808   \n",
            "_________________________________________________________________\n",
            "block5_conv2 (Conv2D)        (None, 14, 14, 512)       2359808   \n",
            "_________________________________________________________________\n",
            "block5_conv3 (Conv2D)        (None, 14, 14, 512)       2359808   \n",
            "_________________________________________________________________\n",
            "block5_pool (MaxPooling2D)   (None, 7, 7, 512)         0         \n",
            "_________________________________________________________________\n",
            "flatten (Flatten)            (None, 25088)             0         \n",
            "_________________________________________________________________\n",
            "dense (Dense)                (None, 512)               12845568  \n",
            "_________________________________________________________________\n",
            "dense_1 (Dense)              (None, 2)                 1026      \n",
            "=================================================================\n",
            "Total params: 27,561,282\n",
            "Trainable params: 12,846,594\n",
            "Non-trainable params: 14,714,688\n",
            "_________________________________________________________________\n"
          ],
          "name": "stdout"
        }
      ]
    },
    {
      "cell_type": "code",
      "metadata": {
        "id": "hF9HstY00fOM",
        "colab_type": "code",
        "colab": {}
      },
      "source": [
        "myModel.compile(loss=\"binary_crossentropy\",\n",
        "                optimizer=tf.keras.optimizer.SGD(learning_rate=0.0001,momentum=0.9),\n",
        "                metrics=[\"accuracy\"])\n",
        "myModel.fit(train_x, train_y, batch_size =32, epochs=5) #one-hat encoded y"
      ],
      "execution_count": 0,
      "outputs": []
    },
    {
      "cell_type": "code",
      "metadata": {
        "id": "5imkjeNz3NYb",
        "colab_type": "code",
        "colab": {}
      },
      "source": [
        "model1 = tf.keras.applications.VGG16(weights=\"imagenet\", include_top=False,\n",
        "                                    input_shape=(224,224,3))\n",
        "#fune tuning the last two layers for our new data set\n",
        "for layer in model1.layers:\n",
        "  #visit all layers in model.layers (VGG16 network)\n",
        "  layer.trainable = False # freeze the ability to train the layers\n",
        "\n",
        "\n",
        "X = model1.get_layer('block5_pool').output\n",
        "\n",
        "X = tf.keras.layer.Flatten()(X)\n",
        "X = tf.keras.layers.Dense(512, activation = \"relu\")(X)\n",
        "X = tf.keras,layers.Dense(2, activation=\"softmax\")(X)\n",
        "\n",
        "myModel = tf.keras.Model(model1.input, X)\n",
        "\n",
        "myModel.summary()"
      ],
      "execution_count": 0,
      "outputs": []
    }
  ]
}